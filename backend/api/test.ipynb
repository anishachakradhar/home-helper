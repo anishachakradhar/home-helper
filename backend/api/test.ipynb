{
 "metadata": {
  "language_info": {
   "codemirror_mode": {
    "name": "ipython",
    "version": 3
   },
   "file_extension": ".py",
   "mimetype": "text/x-python",
   "name": "python",
   "nbconvert_exporter": "python",
   "pygments_lexer": "ipython3",
   "version": "3.7.4-final"
  },
  "orig_nbformat": 2,
  "kernelspec": {
   "name": "python_defaultSpec_1598666481854",
   "display_name": "Python 3.7.4 64-bit ('base': conda)"
  }
 },
 "nbformat": 4,
 "nbformat_minor": 2,
 "cells": [
  {
   "cell_type": "code",
   "execution_count": 31,
   "metadata": {},
   "outputs": [],
   "source": [
    "\n",
    "from math import sin, cos, radians, degrees, acos\n",
    "\n",
    "def calc_dist(lat_a, long_a, lat_b, long_b):\n",
    "    lat_a = radians(lat_a)\n",
    "    lat_b = radians(lat_b)\n",
    "    long_diff = radians(long_a - long_b)\n",
    "    distance = (sin(lat_a) * sin(lat_b) +\n",
    "                cos(lat_a) * cos(lat_b) * cos(long_diff))\n",
    "    return degrees(acos(distance)) * 3958.761\n"
   ]
  },
  {
   "cell_type": "code",
   "execution_count": 30,
   "metadata": {},
   "outputs": [
    {
     "output_type": "execute_result",
     "data": {
      "text/plain": "12742.0"
     },
     "metadata": {},
     "execution_count": 30
    }
   ],
   "source": [
    "a = calc_dist(26.44744,87.281248,28.44744,87.281248)/1000\n",
    "round(a,2)"
   ]
  },
  {
   "cell_type": "code",
   "execution_count": 11,
   "metadata": {},
   "outputs": [
    {
     "output_type": "execute_result",
     "data": {
      "text/plain": "6371000.0"
     },
     "metadata": {},
     "execution_count": 11
    }
   ],
   "source": []
  },
  {
   "cell_type": "code",
   "execution_count": 13,
   "metadata": {},
   "outputs": [
    {
     "output_type": "execute_result",
     "data": {
      "text/plain": "32.34"
     },
     "metadata": {},
     "execution_count": 13
    }
   ],
   "source": [
    "round(32.343,2)"
   ]
  },
  {
   "cell_type": "code",
   "execution_count": null,
   "metadata": {},
   "outputs": [],
   "source": []
  }
 ]
}